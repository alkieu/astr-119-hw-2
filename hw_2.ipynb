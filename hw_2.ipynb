{
 "cells": [
  {
   "cell_type": "code",
   "execution_count": null,
   "metadata": {},
   "outputs": [],
   "source": [
    "%matplotlib inline\n",
    "import numpy as np \n",
    "import matplotlib.pyplot as plt\n"
   ]
  },
  {
   "cell_type": "markdown",
   "metadata": {},
   "source": [
    "## part a, cosine plot"
   ]
  },
  {
   "cell_type": "code",
   "execution_count": null,
   "metadata": {},
   "outputs": [],
   "source": [
    "fig = plt.figure()\n",
    "ax = plt.axes()\n",
    "pi = 3.14159265359\n",
    "\n",
    "x = np.linspace(0,2*pi,1000)       #create x=(0,2*pi) with 1000 values\n",
    "ax.plot(x,np.cos(2*x))\n",
    "y = np.linspace(-1,10,1000)        #create y=(-1,10) with 1000 values\n",
    "ax.plot(x,np.cos(2*x))\n",
    " \n",
    "plt.plot(x,y)\n",
    "plt.title('Cosine Curve')\n",
    "plt.xlabel('Time in Astr 119')\n",
    "plt.ylabel('Measures of Awesomeness')\n",
    "plt.show()\n"
   ]
  },
  {
   "cell_type": "markdown",
   "metadata": {},
   "source": [
    "## part b, exp plot"
   ]
  },
  {
   "cell_type": "code",
   "execution_count": null,
   "metadata": {},
   "outputs": [],
   "source": [
    "fig = plt.figure()\n",
    "ax = plt.axes()\n",
    "pi = 3.14159265359\n",
    "\n",
    "x = np.linspace(0,2*pi,1000)       #create x=(0,2*pi) with 1000 values\n",
    "ax.plot(x,np.exp(x))\n",
    "y = np.linspace(-1,10,1000)        #create y=(-1,10) with 1000 values\n",
    "ax.plot(x,np.exp(x))\n",
    " \n",
    "plt.plot(x,y)\n",
    "plt.title('Exponential Curve')\n",
    "plt.xlabel('Time in Astr 119')\n",
    "plt.ylabel('Measures of Awesomeness')\n",
    "plt.show()\n"
   ]
  },
  {
   "cell_type": "markdown",
   "metadata": {},
   "source": [
    "## part c, sine plot"
   ]
  },
  {
   "cell_type": "code",
   "execution_count": null,
   "metadata": {},
   "outputs": [],
   "source": [
    "fig = plt.figure()\n",
    "ax = plt.axes()\n",
    "pi = 3.14159265359\n",
    "\n",
    "x = np.linspace(0,2*pi,1000)       #create x=(0,2*pi) with 1000 values\n",
    "ax.plot(x,np.sin(10*x))\n",
    "y = np.linspace(-1,10,1000)        #create y=(-1,10) with 1000 values\n",
    "ax.plot(x,np.sin(10*x))\n",
    "\n",
    "plt.plot(x,y)\n",
    "plt.title('Sine Curve')\n",
    "plt.xlabel('Time in Astr 119')\n",
    "plt.ylabel('Measures of Awesomeness')\n",
    "plt.show()\n"
   ]
  },
  {
   "cell_type": "code",
   "execution_count": null,
   "metadata": {},
   "outputs": [],
   "source": []
  },
  {
   "cell_type": "code",
   "execution_count": null,
   "metadata": {},
   "outputs": [],
   "source": []
  }
 ],
 "metadata": {
  "kernelspec": {
   "display_name": "Python 3",
   "language": "python",
   "name": "python3"
  },
  "language_info": {
   "codemirror_mode": {
    "name": "ipython",
    "version": 3
   },
   "file_extension": ".py",
   "mimetype": "text/x-python",
   "name": "python",
   "nbconvert_exporter": "python",
   "pygments_lexer": "ipython3",
   "version": "3.7.0"
  }
 },
 "nbformat": 4,
 "nbformat_minor": 2
}
